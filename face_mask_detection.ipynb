{
  "nbformat": 4,
  "nbformat_minor": 0,
  "metadata": {
    "colab": {
      "name": "face_mask_detection.ipynb",
      "provenance": [],
      "collapsed_sections": [],
      "authorship_tag": "ABX9TyMdwK9tsI0jUFmRBPLOV5WY",
      "include_colab_link": true
    },
    "kernelspec": {
      "name": "python3",
      "display_name": "Python 3"
    },
    "language_info": {
      "name": "python"
    },
    "accelerator": "GPU"
  },
  "cells": [
    {
      "cell_type": "markdown",
      "metadata": {
        "id": "view-in-github",
        "colab_type": "text"
      },
      "source": [
        "<a href=\"https://colab.research.google.com/github/megharai22/Face-Mask-Detection/blob/main/face_mask_detection.ipynb\" target=\"_parent\"><img src=\"https://colab.research.google.com/assets/colab-badge.svg\" alt=\"Open In Colab\"/></a>"
      ]
    },
    {
      "cell_type": "code",
      "metadata": {
        "id": "BeTEV9qfPNtr"
      },
      "source": [
        "from tensorflow.keras.models import Sequential\n",
        "from tensorflow.keras.layers import Conv2D, MaxPooling2D, Dropout, Flatten, Dense\n",
        "from tensorflow.keras.optimizers import Adam\n",
        "from tensorflow.keras.preprocessing.image import ImageDataGenerator\n",
        "import numpy as np\n",
        "import matplotlib.pyplot as plt\n"
      ],
      "execution_count": null,
      "outputs": []
    },
    {
      "cell_type": "code",
      "metadata": {
        "id": "3t_QtvqQPrP6"
      },
      "source": [
        "import os\n",
        "os.environ['KAGGLE_USERNAME']='megharai22'\n",
        "os.environ['KAGGLE_KEY']='33251436ea90718a047217c4c60251e4'"
      ],
      "execution_count": null,
      "outputs": []
    },
    {
      "cell_type": "code",
      "metadata": {
        "colab": {
          "base_uri": "https://localhost:8080/"
        },
        "id": "qqJrSnYZRf0w",
        "outputId": "d3623349-4918-40b2-ae0d-b4b933523a63"
      },
      "source": [
        "! kaggle datasets download -d omkargurav/face-mask-dataset"
      ],
      "execution_count": null,
      "outputs": [
        {
          "output_type": "stream",
          "name": "stdout",
          "text": [
            "Downloading face-mask-dataset.zip to /content\n",
            " 93% 151M/163M [00:01<00:00, 118MB/s]\n",
            "100% 163M/163M [00:01<00:00, 137MB/s]\n"
          ]
        }
      ]
    },
    {
      "cell_type": "code",
      "metadata": {
        "id": "xr8VEWQFUqer"
      },
      "source": [
        "! unzip covid-face-mask-detection-dataset.zip"
      ],
      "execution_count": null,
      "outputs": []
    },
    {
      "cell_type": "code",
      "metadata": {
        "id": "Q9snkIFDU6dy"
      },
      "source": [
        "main_dir = '/content/New Masks Dataset'\n",
        "train_dir = os.path.join(main_dir,'Train')\n",
        "test_dir = os.path.join(main_dir,'Test')\n",
        "valid_dir = os.path.join(main_dir,'Validation')\n",
        "\n",
        "train_mask_dir = os.path.join(train_dir,'Mask')\n",
        "train_nomask_dir = os.path.join(train_dir,'Non Mask')"
      ],
      "execution_count": null,
      "outputs": []
    },
    {
      "cell_type": "code",
      "metadata": {
        "colab": {
          "base_uri": "https://localhost:8080/"
        },
        "id": "gWEqpelaWt-i",
        "outputId": "82f8692a-1883-473e-83c5-0ed5aa0c6a79"
      },
      "source": [
        "train_mask_names = os.listdir(train_mask_dir)\n",
        "print(train_mask_names[:10])\n",
        "\n",
        "train_nomask_names = os.listdir(train_nomask_dir)\n",
        "print(train_nomask_names[:10])"
      ],
      "execution_count": null,
      "outputs": [
        {
          "output_type": "stream",
          "name": "stdout",
          "text": [
            "['0803.jpg', '0770.jpg', '0427.jpg', '1137.jpg', '0506.jpg', '0158.jpg', '1346.jpg', '0243.jpg', '0006.jpg', '0216.jpg']\n",
            "['132.jpg', '100.jpg', '47.jpg', '105.jpg', '215.jpg', '300.jpg', '258.jpg', '66.jpg', '84.jpg', '18.jpg']\n"
          ]
        }
      ]
    },
    {
      "cell_type": "code",
      "metadata": {
        "id": "cw3zloLzXuCd"
      },
      "source": [
        "import matplotlib.image as mpimg\n",
        "nrows = 4\n",
        "ncols = 4\n",
        "plt.figure(figsize=(12,12))\n",
        "\n",
        "mask_pic = []\n",
        "for i in train_mask_names[0:8]:\n",
        "  mask_pic.append(os.path.join(train_mask_dir,i))\n",
        "\n",
        "nomask_pic = []\n",
        "for i in train_nomask_names[0:8]:\n",
        "  nomask_pic.append(os.path.join(train_nomask_dir,i))\n",
        "\n",
        "print(mask_pic)\n",
        "print(nomask_pic)  \n",
        "\n",
        "merged_list = mask_pic+nomask_pic\n",
        "\n",
        "for i in range(0,len(merged_list)):\n",
        "  data = merged_list[i].split('/',4)[4]\n",
        "  sp = plt.subplot(nrows,ncols,i+1)\n",
        "  sp.axis('off')\n",
        "  image = mpimg.imread(merged_list[i])\n",
        "  sp.set_title(data,fontsize=10)\n",
        "  plt.imshow(image,cmap='gray')\n",
        "\n",
        "plt.show  \n",
        "\n"
      ],
      "execution_count": null,
      "outputs": []
    },
    {
      "cell_type": "code",
      "metadata": {
        "colab": {
          "base_uri": "https://localhost:8080/"
        },
        "id": "9QDwsk0Th6kA",
        "outputId": "f76290c9-83ac-4fe2-9446-73bb40d056ae"
      },
      "source": [
        "train_datagen = ImageDataGenerator(rescale=1./255,\n",
        "                                   zoom_range = 0.2,\n",
        "                                   rotation_range = 40,\n",
        "                                   horizontal_flip = True\n",
        "                                   )\n",
        "test_datagen = ImageDataGenerator(rescale=1./255)\n",
        "validation_datagen = ImageDataGenerator(rescale=1./255)\n",
        "\n",
        "train_generator = train_datagen.flow_from_directory(train_dir,\n",
        "                                                    target_size=(150,150),\n",
        "                                                    batch_size = 32,\n",
        "                                                    class_mode = 'binary'\n",
        "                                                    )\n",
        "test_generator = test_datagen.flow_from_directory(test_dir,\n",
        "                                                    target_size=(150,150),\n",
        "                                                    batch_size = 32,\n",
        "                                                    class_mode = 'binary'\n",
        "                                                    )\n",
        "valid_generator = validation_datagen.flow_from_directory(valid_dir,\n",
        "                                                    target_size=(150,150),\n",
        "                                                    batch_size = 32,\n",
        "                                                    class_mode = 'binary'\n",
        "                                                    )\n"
      ],
      "execution_count": null,
      "outputs": [
        {
          "output_type": "stream",
          "name": "stdout",
          "text": [
            "Found 600 images belonging to 2 classes.\n",
            "Found 100 images belonging to 2 classes.\n",
            "Found 306 images belonging to 2 classes.\n"
          ]
        }
      ]
    },
    {
      "cell_type": "code",
      "metadata": {
        "colab": {
          "base_uri": "https://localhost:8080/"
        },
        "id": "W9N_o3KIouX0",
        "outputId": "b37cb872-1876-41fc-98eb-8869a67f9cd1"
      },
      "source": [
        "train_generator.class_indices"
      ],
      "execution_count": null,
      "outputs": [
        {
          "output_type": "execute_result",
          "data": {
            "text/plain": [
              "{'Mask': 0, 'Non Mask': 1}"
            ]
          },
          "metadata": {},
          "execution_count": 29
        }
      ]
    },
    {
      "cell_type": "code",
      "metadata": {
        "colab": {
          "base_uri": "https://localhost:8080/"
        },
        "id": "YoJUCT5Poyco",
        "outputId": "e0c4164c-c5fe-42ac-b865-b5406a6e52be"
      },
      "source": [
        "train_generator.image_shape"
      ],
      "execution_count": null,
      "outputs": [
        {
          "output_type": "execute_result",
          "data": {
            "text/plain": [
              "(150, 150, 3)"
            ]
          },
          "metadata": {},
          "execution_count": 30
        }
      ]
    },
    {
      "cell_type": "code",
      "source": [
        ""
      ],
      "metadata": {
        "id": "8kGbB8xTQ2WU"
      },
      "execution_count": null,
      "outputs": []
    },
    {
      "cell_type": "code",
      "metadata": {
        "colab": {
          "base_uri": "https://localhost:8080/"
        },
        "id": "Hwk7xV75uqVU",
        "outputId": "2030a695-048a-4a85-b638-a1339e00e124"
      },
      "source": [
        "model = Sequential()\n",
        "model.add(Conv2D(32,(3,3),padding= 'SAME' ,activation='relu' ,input_shape=(150,150,3)))\n",
        "model.add(MaxPooling2D(pool_size=(2,2)))\n",
        "model.add(Dropout(0.5))\n",
        "\n",
        "model.add(Conv2D(64,(3,3),padding= 'SAME' ,activation='relu'))\n",
        "model.add(MaxPooling2D(pool_size=(2,2)))\n",
        "model.add(Dropout(0.5))\n",
        "\n",
        "model.add(Flatten())\n",
        "\n",
        "model.add(Dense(256,activation='relu'))\n",
        "model.add(Dropout(0.5))\n",
        "model.add(Dense(1,activation='sigmoid'))\n",
        "model.summary()\n"
      ],
      "execution_count": null,
      "outputs": [
        {
          "output_type": "stream",
          "name": "stdout",
          "text": [
            "Model: \"sequential_1\"\n",
            "_________________________________________________________________\n",
            " Layer (type)                Output Shape              Param #   \n",
            "=================================================================\n",
            " conv2d_2 (Conv2D)           (None, 150, 150, 32)      896       \n",
            "                                                                 \n",
            " max_pooling2d_2 (MaxPooling  (None, 75, 75, 32)       0         \n",
            " 2D)                                                             \n",
            "                                                                 \n",
            " dropout_3 (Dropout)         (None, 75, 75, 32)        0         \n",
            "                                                                 \n",
            " conv2d_3 (Conv2D)           (None, 75, 75, 64)        18496     \n",
            "                                                                 \n",
            " max_pooling2d_3 (MaxPooling  (None, 37, 37, 64)       0         \n",
            " 2D)                                                             \n",
            "                                                                 \n",
            " dropout_4 (Dropout)         (None, 37, 37, 64)        0         \n",
            "                                                                 \n",
            " flatten_1 (Flatten)         (None, 87616)             0         \n",
            "                                                                 \n",
            " dense_2 (Dense)             (None, 256)               22429952  \n",
            "                                                                 \n",
            " dropout_5 (Dropout)         (None, 256)               0         \n",
            "                                                                 \n",
            " dense_3 (Dense)             (None, 1)                 257       \n",
            "                                                                 \n",
            "=================================================================\n",
            "Total params: 22,449,601\n",
            "Trainable params: 22,449,601\n",
            "Non-trainable params: 0\n",
            "_________________________________________________________________\n"
          ]
        }
      ]
    },
    {
      "cell_type": "code",
      "metadata": {
        "id": "BR61FEqCySQ0"
      },
      "source": [
        "model.compile(Adam(learning_rate=0.005),loss='binary_crossentropy',metrics=['accuracy'])"
      ],
      "execution_count": null,
      "outputs": []
    },
    {
      "cell_type": "code",
      "metadata": {
        "id": "4EAwRoL_zt7e",
        "colab": {
          "base_uri": "https://localhost:8080/"
        },
        "outputId": "9ebe015f-6193-46d2-9514-ade1f27624fc"
      },
      "source": [
        "history = model.fit(train_generator, \n",
        "                    epochs = 100,\n",
        "                    validation_data = valid_generator)\n"
      ],
      "execution_count": null,
      "outputs": [
        {
          "output_type": "stream",
          "name": "stdout",
          "text": [
            "Epoch 1/100\n",
            "19/19 [==============================] - 13s 654ms/step - loss: 0.5701 - accuracy: 0.8400 - val_loss: 0.4896 - val_accuracy: 0.8627\n",
            "Epoch 2/100\n",
            "19/19 [==============================] - 12s 627ms/step - loss: 0.4156 - accuracy: 0.8517 - val_loss: 0.3705 - val_accuracy: 0.8693\n",
            "Epoch 3/100\n",
            "19/19 [==============================] - 12s 630ms/step - loss: 0.3418 - accuracy: 0.8633 - val_loss: 0.3280 - val_accuracy: 0.8987\n",
            "Epoch 4/100\n",
            "19/19 [==============================] - 12s 634ms/step - loss: 0.2639 - accuracy: 0.9100 - val_loss: 0.3856 - val_accuracy: 0.8725\n",
            "Epoch 5/100\n",
            "19/19 [==============================] - 12s 633ms/step - loss: 0.3610 - accuracy: 0.8817 - val_loss: 0.3000 - val_accuracy: 0.9052\n",
            "Epoch 6/100\n",
            "19/19 [==============================] - 12s 628ms/step - loss: 0.2549 - accuracy: 0.9200 - val_loss: 0.3196 - val_accuracy: 0.8725\n",
            "Epoch 7/100\n",
            "19/19 [==============================] - 12s 634ms/step - loss: 0.2632 - accuracy: 0.9000 - val_loss: 0.2501 - val_accuracy: 0.9281\n",
            "Epoch 8/100\n",
            "19/19 [==============================] - 12s 634ms/step - loss: 0.2687 - accuracy: 0.9100 - val_loss: 0.2260 - val_accuracy: 0.9477\n",
            "Epoch 9/100\n",
            "19/19 [==============================] - 12s 628ms/step - loss: 0.2235 - accuracy: 0.9167 - val_loss: 0.2463 - val_accuracy: 0.9118\n",
            "Epoch 10/100\n",
            "19/19 [==============================] - 12s 623ms/step - loss: 0.2765 - accuracy: 0.9183 - val_loss: 0.2379 - val_accuracy: 0.9216\n",
            "Epoch 11/100\n",
            "19/19 [==============================] - 12s 630ms/step - loss: 0.2205 - accuracy: 0.9217 - val_loss: 0.2280 - val_accuracy: 0.9248\n",
            "Epoch 12/100\n",
            "19/19 [==============================] - 12s 631ms/step - loss: 0.1980 - accuracy: 0.9350 - val_loss: 0.2361 - val_accuracy: 0.9150\n",
            "Epoch 13/100\n",
            "19/19 [==============================] - 12s 629ms/step - loss: 0.2392 - accuracy: 0.9133 - val_loss: 0.3220 - val_accuracy: 0.8693\n",
            "Epoch 14/100\n",
            "19/19 [==============================] - 12s 633ms/step - loss: 0.2282 - accuracy: 0.9183 - val_loss: 0.2206 - val_accuracy: 0.9052\n",
            "Epoch 15/100\n",
            "19/19 [==============================] - 12s 627ms/step - loss: 0.2528 - accuracy: 0.8900 - val_loss: 0.2337 - val_accuracy: 0.8987\n",
            "Epoch 16/100\n",
            "19/19 [==============================] - 12s 635ms/step - loss: 0.2237 - accuracy: 0.9117 - val_loss: 0.2392 - val_accuracy: 0.9314\n",
            "Epoch 17/100\n",
            "19/19 [==============================] - 12s 625ms/step - loss: 0.1941 - accuracy: 0.9283 - val_loss: 0.2077 - val_accuracy: 0.9248\n",
            "Epoch 18/100\n",
            "19/19 [==============================] - 12s 625ms/step - loss: 0.1807 - accuracy: 0.9300 - val_loss: 0.2371 - val_accuracy: 0.9150\n",
            "Epoch 19/100\n",
            "19/19 [==============================] - 12s 628ms/step - loss: 0.2064 - accuracy: 0.9200 - val_loss: 0.2850 - val_accuracy: 0.9118\n",
            "Epoch 20/100\n",
            "19/19 [==============================] - 12s 632ms/step - loss: 0.2379 - accuracy: 0.9150 - val_loss: 0.2915 - val_accuracy: 0.9020\n",
            "Epoch 21/100\n",
            "19/19 [==============================] - 12s 636ms/step - loss: 0.2254 - accuracy: 0.9217 - val_loss: 0.2893 - val_accuracy: 0.9183\n",
            "Epoch 22/100\n",
            "19/19 [==============================] - 12s 624ms/step - loss: 0.1822 - accuracy: 0.9433 - val_loss: 0.2423 - val_accuracy: 0.8954\n",
            "Epoch 23/100\n",
            "19/19 [==============================] - 12s 630ms/step - loss: 0.2085 - accuracy: 0.9250 - val_loss: 0.2492 - val_accuracy: 0.9216\n",
            "Epoch 24/100\n",
            "19/19 [==============================] - 12s 631ms/step - loss: 0.1874 - accuracy: 0.9333 - val_loss: 0.4027 - val_accuracy: 0.9052\n",
            "Epoch 25/100\n",
            "19/19 [==============================] - 12s 633ms/step - loss: 0.1947 - accuracy: 0.9367 - val_loss: 0.3580 - val_accuracy: 0.8693\n",
            "Epoch 26/100\n",
            "19/19 [==============================] - 12s 630ms/step - loss: 0.2254 - accuracy: 0.9167 - val_loss: 0.3248 - val_accuracy: 0.9020\n",
            "Epoch 27/100\n",
            "19/19 [==============================] - 12s 629ms/step - loss: 0.2537 - accuracy: 0.9017 - val_loss: 0.2473 - val_accuracy: 0.9314\n",
            "Epoch 28/100\n",
            "19/19 [==============================] - 12s 629ms/step - loss: 0.2274 - accuracy: 0.9083 - val_loss: 0.2390 - val_accuracy: 0.9150\n",
            "Epoch 29/100\n",
            "19/19 [==============================] - 12s 634ms/step - loss: 0.2465 - accuracy: 0.9183 - val_loss: 0.3171 - val_accuracy: 0.8627\n",
            "Epoch 30/100\n",
            "19/19 [==============================] - 12s 630ms/step - loss: 0.2770 - accuracy: 0.8967 - val_loss: 0.3842 - val_accuracy: 0.7843\n",
            "Epoch 31/100\n",
            "19/19 [==============================] - 13s 710ms/step - loss: 0.2630 - accuracy: 0.8883 - val_loss: 0.2521 - val_accuracy: 0.8987\n",
            "Epoch 32/100\n",
            "19/19 [==============================] - 12s 672ms/step - loss: 0.2310 - accuracy: 0.9083 - val_loss: 0.2540 - val_accuracy: 0.9020\n",
            "Epoch 33/100\n",
            "19/19 [==============================] - 12s 636ms/step - loss: 0.2246 - accuracy: 0.9217 - val_loss: 0.2007 - val_accuracy: 0.9085\n",
            "Epoch 34/100\n",
            "19/19 [==============================] - 12s 645ms/step - loss: 0.1992 - accuracy: 0.9333 - val_loss: 0.2189 - val_accuracy: 0.9150\n",
            "Epoch 35/100\n",
            "19/19 [==============================] - 13s 712ms/step - loss: 0.2218 - accuracy: 0.9250 - val_loss: 0.2655 - val_accuracy: 0.9052\n",
            "Epoch 36/100\n",
            "19/19 [==============================] - 12s 645ms/step - loss: 0.3004 - accuracy: 0.8983 - val_loss: 0.3355 - val_accuracy: 0.8987\n",
            "Epoch 37/100\n",
            "19/19 [==============================] - 12s 626ms/step - loss: 0.2880 - accuracy: 0.8950 - val_loss: 0.3388 - val_accuracy: 0.8660\n",
            "Epoch 38/100\n",
            "19/19 [==============================] - 12s 626ms/step - loss: 0.2877 - accuracy: 0.8867 - val_loss: 0.3099 - val_accuracy: 0.8954\n",
            "Epoch 39/100\n",
            "19/19 [==============================] - 12s 625ms/step - loss: 0.2020 - accuracy: 0.9233 - val_loss: 0.2789 - val_accuracy: 0.9150\n",
            "Epoch 40/100\n",
            "19/19 [==============================] - 12s 630ms/step - loss: 0.2030 - accuracy: 0.9233 - val_loss: 0.3889 - val_accuracy: 0.8889\n",
            "Epoch 41/100\n",
            "19/19 [==============================] - 12s 634ms/step - loss: 0.2044 - accuracy: 0.9167 - val_loss: 0.2989 - val_accuracy: 0.8922\n",
            "Epoch 42/100\n",
            "19/19 [==============================] - 12s 632ms/step - loss: 0.2361 - accuracy: 0.9200 - val_loss: 0.3745 - val_accuracy: 0.8889\n",
            "Epoch 43/100\n",
            "19/19 [==============================] - 12s 644ms/step - loss: 0.2362 - accuracy: 0.9200 - val_loss: 0.3873 - val_accuracy: 0.8595\n",
            "Epoch 44/100\n",
            "19/19 [==============================] - 14s 739ms/step - loss: 0.2635 - accuracy: 0.9050 - val_loss: 0.2722 - val_accuracy: 0.8889\n",
            "Epoch 45/100\n",
            "19/19 [==============================] - 12s 642ms/step - loss: 0.1940 - accuracy: 0.9267 - val_loss: 0.2903 - val_accuracy: 0.8954\n",
            "Epoch 46/100\n",
            "19/19 [==============================] - 12s 622ms/step - loss: 0.1924 - accuracy: 0.9267 - val_loss: 0.2923 - val_accuracy: 0.9020\n",
            "Epoch 47/100\n",
            "19/19 [==============================] - 12s 626ms/step - loss: 0.1922 - accuracy: 0.9367 - val_loss: 0.3060 - val_accuracy: 0.9248\n",
            "Epoch 48/100\n",
            "19/19 [==============================] - 12s 629ms/step - loss: 0.2080 - accuracy: 0.9233 - val_loss: 0.4120 - val_accuracy: 0.8856\n",
            "Epoch 49/100\n",
            "19/19 [==============================] - 12s 632ms/step - loss: 0.2259 - accuracy: 0.9150 - val_loss: 0.2651 - val_accuracy: 0.9020\n",
            "Epoch 50/100\n",
            "19/19 [==============================] - 12s 621ms/step - loss: 0.2301 - accuracy: 0.9200 - val_loss: 0.2637 - val_accuracy: 0.8922\n",
            "Epoch 51/100\n",
            "19/19 [==============================] - 12s 630ms/step - loss: 0.2219 - accuracy: 0.9267 - val_loss: 0.2386 - val_accuracy: 0.9216\n",
            "Epoch 52/100\n",
            "19/19 [==============================] - 13s 676ms/step - loss: 0.1946 - accuracy: 0.9367 - val_loss: 0.2788 - val_accuracy: 0.8987\n",
            "Epoch 53/100\n",
            "19/19 [==============================] - 12s 633ms/step - loss: 0.1692 - accuracy: 0.9367 - val_loss: 0.3219 - val_accuracy: 0.8987\n",
            "Epoch 54/100\n",
            "19/19 [==============================] - 12s 636ms/step - loss: 0.1520 - accuracy: 0.9383 - val_loss: 0.2969 - val_accuracy: 0.8922\n",
            "Epoch 55/100\n",
            "19/19 [==============================] - 12s 635ms/step - loss: 0.1849 - accuracy: 0.9217 - val_loss: 0.3487 - val_accuracy: 0.8922\n",
            "Epoch 56/100\n",
            "19/19 [==============================] - 12s 631ms/step - loss: 0.3306 - accuracy: 0.8783 - val_loss: 0.2455 - val_accuracy: 0.8922\n",
            "Epoch 57/100\n",
            "19/19 [==============================] - 12s 636ms/step - loss: 0.2375 - accuracy: 0.9117 - val_loss: 0.4045 - val_accuracy: 0.8889\n",
            "Epoch 58/100\n",
            "19/19 [==============================] - 12s 639ms/step - loss: 0.1973 - accuracy: 0.9333 - val_loss: 0.2983 - val_accuracy: 0.8922\n",
            "Epoch 59/100\n",
            "19/19 [==============================] - 12s 635ms/step - loss: 0.2132 - accuracy: 0.9200 - val_loss: 0.3423 - val_accuracy: 0.9118\n",
            "Epoch 60/100\n",
            "19/19 [==============================] - 12s 615ms/step - loss: 0.2767 - accuracy: 0.9083 - val_loss: 0.3568 - val_accuracy: 0.8595\n",
            "Epoch 61/100\n",
            "19/19 [==============================] - 12s 630ms/step - loss: 0.2580 - accuracy: 0.9067 - val_loss: 0.2604 - val_accuracy: 0.9020\n",
            "Epoch 62/100\n",
            "19/19 [==============================] - 12s 631ms/step - loss: 0.2180 - accuracy: 0.9100 - val_loss: 0.2922 - val_accuracy: 0.8725\n",
            "Epoch 63/100\n",
            "19/19 [==============================] - 12s 633ms/step - loss: 0.1817 - accuracy: 0.9300 - val_loss: 0.3280 - val_accuracy: 0.8954\n",
            "Epoch 64/100\n",
            "19/19 [==============================] - 12s 626ms/step - loss: 0.1599 - accuracy: 0.9417 - val_loss: 0.3172 - val_accuracy: 0.9020\n",
            "Epoch 65/100\n",
            "19/19 [==============================] - 12s 627ms/step - loss: 0.2088 - accuracy: 0.9367 - val_loss: 0.3807 - val_accuracy: 0.8660\n",
            "Epoch 66/100\n",
            "19/19 [==============================] - 12s 629ms/step - loss: 0.2232 - accuracy: 0.9250 - val_loss: 0.3285 - val_accuracy: 0.8529\n",
            "Epoch 67/100\n",
            "19/19 [==============================] - 12s 631ms/step - loss: 0.1937 - accuracy: 0.9250 - val_loss: 0.2729 - val_accuracy: 0.9052\n",
            "Epoch 68/100\n",
            "19/19 [==============================] - 12s 633ms/step - loss: 0.1802 - accuracy: 0.9433 - val_loss: 0.3296 - val_accuracy: 0.8954\n",
            "Epoch 69/100\n",
            "19/19 [==============================] - 12s 632ms/step - loss: 0.2395 - accuracy: 0.9250 - val_loss: 0.2057 - val_accuracy: 0.9248\n",
            "Epoch 70/100\n",
            "19/19 [==============================] - 12s 633ms/step - loss: 0.2055 - accuracy: 0.9367 - val_loss: 0.3139 - val_accuracy: 0.9085\n",
            "Epoch 71/100\n",
            "19/19 [==============================] - 12s 635ms/step - loss: 0.1961 - accuracy: 0.9333 - val_loss: 0.2964 - val_accuracy: 0.8725\n",
            "Epoch 72/100\n",
            "19/19 [==============================] - 12s 634ms/step - loss: 0.1993 - accuracy: 0.9300 - val_loss: 0.2829 - val_accuracy: 0.9118\n",
            "Epoch 73/100\n",
            "19/19 [==============================] - 12s 627ms/step - loss: 0.1734 - accuracy: 0.9383 - val_loss: 0.3038 - val_accuracy: 0.8954\n",
            "Epoch 74/100\n",
            "19/19 [==============================] - 12s 624ms/step - loss: 0.1780 - accuracy: 0.9250 - val_loss: 0.2942 - val_accuracy: 0.8824\n",
            "Epoch 75/100\n",
            "19/19 [==============================] - 12s 626ms/step - loss: 0.1643 - accuracy: 0.9267 - val_loss: 0.2559 - val_accuracy: 0.8987\n",
            "Epoch 76/100\n",
            "19/19 [==============================] - 12s 634ms/step - loss: 0.1893 - accuracy: 0.9417 - val_loss: 0.4206 - val_accuracy: 0.8399\n",
            "Epoch 77/100\n",
            "19/19 [==============================] - 12s 627ms/step - loss: 0.1910 - accuracy: 0.9317 - val_loss: 0.3745 - val_accuracy: 0.8987\n",
            "Epoch 78/100\n",
            "19/19 [==============================] - 12s 629ms/step - loss: 0.1830 - accuracy: 0.9283 - val_loss: 0.3858 - val_accuracy: 0.8856\n",
            "Epoch 79/100\n",
            "19/19 [==============================] - 12s 625ms/step - loss: 0.1966 - accuracy: 0.9333 - val_loss: 0.5341 - val_accuracy: 0.8497\n",
            "Epoch 80/100\n",
            "19/19 [==============================] - 12s 632ms/step - loss: 0.2080 - accuracy: 0.9367 - val_loss: 0.2916 - val_accuracy: 0.9216\n",
            "Epoch 81/100\n",
            "19/19 [==============================] - 12s 635ms/step - loss: 0.2093 - accuracy: 0.9183 - val_loss: 0.2841 - val_accuracy: 0.8987\n",
            "Epoch 82/100\n",
            "19/19 [==============================] - 12s 636ms/step - loss: 0.1900 - accuracy: 0.9250 - val_loss: 0.2898 - val_accuracy: 0.9052\n",
            "Epoch 83/100\n",
            "19/19 [==============================] - 12s 637ms/step - loss: 0.1805 - accuracy: 0.9233 - val_loss: 0.3089 - val_accuracy: 0.9281\n",
            "Epoch 84/100\n",
            "19/19 [==============================] - 12s 633ms/step - loss: 0.2039 - accuracy: 0.9217 - val_loss: 0.2825 - val_accuracy: 0.9020\n",
            "Epoch 85/100\n",
            "19/19 [==============================] - 12s 628ms/step - loss: 0.2071 - accuracy: 0.9133 - val_loss: 0.2813 - val_accuracy: 0.9118\n",
            "Epoch 86/100\n",
            "19/19 [==============================] - 12s 632ms/step - loss: 0.1832 - accuracy: 0.9317 - val_loss: 0.3027 - val_accuracy: 0.9052\n",
            "Epoch 87/100\n",
            "19/19 [==============================] - 12s 624ms/step - loss: 0.1637 - accuracy: 0.9367 - val_loss: 0.2563 - val_accuracy: 0.9150\n",
            "Epoch 88/100\n",
            "19/19 [==============================] - 12s 634ms/step - loss: 0.1826 - accuracy: 0.9383 - val_loss: 0.2473 - val_accuracy: 0.9216\n",
            "Epoch 89/100\n",
            "19/19 [==============================] - 12s 634ms/step - loss: 0.1447 - accuracy: 0.9450 - val_loss: 0.2656 - val_accuracy: 0.9118\n",
            "Epoch 90/100\n",
            "19/19 [==============================] - 12s 621ms/step - loss: 0.1269 - accuracy: 0.9517 - val_loss: 0.3820 - val_accuracy: 0.8954\n",
            "Epoch 91/100\n",
            "19/19 [==============================] - 12s 628ms/step - loss: 0.1885 - accuracy: 0.9400 - val_loss: 0.2643 - val_accuracy: 0.9085\n",
            "Epoch 92/100\n",
            "19/19 [==============================] - 12s 634ms/step - loss: 0.1535 - accuracy: 0.9433 - val_loss: 0.3305 - val_accuracy: 0.8889\n",
            "Epoch 93/100\n",
            "19/19 [==============================] - 12s 627ms/step - loss: 0.2011 - accuracy: 0.9400 - val_loss: 0.2948 - val_accuracy: 0.9150\n",
            "Epoch 94/100\n",
            "19/19 [==============================] - 12s 632ms/step - loss: 0.2161 - accuracy: 0.9283 - val_loss: 0.2632 - val_accuracy: 0.9118\n",
            "Epoch 95/100\n",
            "19/19 [==============================] - 12s 628ms/step - loss: 0.1950 - accuracy: 0.9217 - val_loss: 0.2937 - val_accuracy: 0.8922\n",
            "Epoch 96/100\n",
            "19/19 [==============================] - 12s 629ms/step - loss: 0.1486 - accuracy: 0.9450 - val_loss: 0.2763 - val_accuracy: 0.9085\n",
            "Epoch 97/100\n",
            "19/19 [==============================] - 12s 634ms/step - loss: 0.1606 - accuracy: 0.9483 - val_loss: 0.3000 - val_accuracy: 0.8595\n",
            "Epoch 98/100\n",
            "19/19 [==============================] - 12s 641ms/step - loss: 0.1817 - accuracy: 0.9317 - val_loss: 0.3173 - val_accuracy: 0.8529\n",
            "Epoch 99/100\n",
            "19/19 [==============================] - 12s 635ms/step - loss: 0.2060 - accuracy: 0.9150 - val_loss: 0.3027 - val_accuracy: 0.9020\n",
            "Epoch 100/100\n",
            "19/19 [==============================] - 12s 627ms/step - loss: 0.1642 - accuracy: 0.9217 - val_loss: 0.2891 - val_accuracy: 0.9183\n"
          ]
        }
      ]
    },
    {
      "cell_type": "code",
      "source": [
        ""
      ],
      "metadata": {
        "id": "NaZZjp0iXYZ9"
      },
      "execution_count": null,
      "outputs": []
    },
    {
      "cell_type": "code",
      "metadata": {
        "id": "JTQHcf8u5XXM",
        "colab": {
          "base_uri": "https://localhost:8080/"
        },
        "outputId": "78a9203b-75e8-40bc-feec-80f6b705e955"
      },
      "source": [
        "history.history.keys()"
      ],
      "execution_count": null,
      "outputs": [
        {
          "output_type": "execute_result",
          "data": {
            "text/plain": [
              "dict_keys(['loss', 'accuracy', 'val_loss', 'val_accuracy'])"
            ]
          },
          "metadata": {},
          "execution_count": 52
        }
      ]
    },
    {
      "cell_type": "code",
      "metadata": {
        "id": "F-8NZO-P5g0G",
        "colab": {
          "base_uri": "https://localhost:8080/",
          "height": 312
        },
        "outputId": "b69a6bf6-a4a2-4be1-dbfc-9c2d25165ff3"
      },
      "source": [
        "plt.plot(history.history['loss'])\n",
        "plt.plot(history.history['val_loss'])\n",
        "plt.legend(['training','validation'])\n",
        "plt.title('Training and validation loss')\n",
        "plt.xlabel('epoch')"
      ],
      "execution_count": null,
      "outputs": [
        {
          "output_type": "execute_result",
          "data": {
            "text/plain": [
              "Text(0.5, 0, 'epoch')"
            ]
          },
          "metadata": {},
          "execution_count": 53
        },
        {
          "output_type": "display_data",
          "data": {
            "text/plain": [
              "<Figure size 432x288 with 1 Axes>"
            ],
            "image/png": "[encoded data removed]"
          },
          "metadata": {
            "needs_background": "light"
          }
        }
      ]
    },
    {
      "cell_type": "code",
      "metadata": {
        "id": "eNltAscB6FZR",
        "colab": {
          "base_uri": "https://localhost:8080/",
          "height": 312
        },
        "outputId": "5e497daf-1c50-4630-ac56-7c9ec8881496"
      },
      "source": [
        "plt.plot(history.history['accuracy'])\n",
        "plt.plot(history.history['val_accuracy'])\n",
        "plt.legend(['training','validation'])\n",
        "plt.title('Training and validation accuracy')\n",
        "plt.xlabel('epoch')"
      ],
      "execution_count": null,
      "outputs": [
        {
          "output_type": "execute_result",
          "data": {
            "text/plain": [
              "Text(0.5, 0, 'epoch')"
            ]
          },
          "metadata": {},
          "execution_count": 54
        },
        {
          "output_type": "display_data",
          "data": {
            "text/plain": [
              "<Figure size 432x288 with 1 Axes>"
            ],
            "image/png": "[encoded data removed]"
          },
          "metadata": {
            "needs_background": "light"
          }
        }
      ]
    },
    {
      "cell_type": "code",
      "metadata": {
        "id": "OkhbTboK6Sju",
        "colab": {
          "base_uri": "https://localhost:8080/"
        },
        "outputId": "03651708-b498-45de-f67b-655164cc0fac"
      },
      "source": [
        "test_loss , test_acc = model.evaluate(test_generator)\n",
        "print('test loss:{}' 'test acc:{}'.format(test_loss,test_acc))"
      ],
      "execution_count": null,
      "outputs": [
        {
          "output_type": "stream",
          "name": "stdout",
          "text": [
            "4/4 [==============================] - 1s 236ms/step - loss: 0.2332 - accuracy: 0.8800\n",
            "test loss:0.23321960866451263test acc:0.8799999952316284\n"
          ]
        }
      ]
    },
    {
      "cell_type": "code",
      "metadata": {
        "id": "5TnFJ-0q6ygo",
        "colab": {
          "resources": {
            "http://localhost:8080/nbextensions/google.colab/files.js": {
              "data": "Ly8gQ29weXJpZ2h0IDIwMTcgR29vZ2xlIExMQwovLwovLyBMaWNlbnNlZCB1bmRlciB0aGUgQXBhY2hlIExpY2Vuc2UsIFZlcnNpb24gMi4wICh0aGUgIkxpY2Vuc2UiKTsKLy8geW91IG1heSBub3QgdXNlIHRoaXMgZmlsZSBleGNlcHQgaW4gY29tcGxpYW5jZSB3aXRoIHRoZSBMaWNlbnNlLgovLyBZb3UgbWF5IG9idGFpbiBhIGNvcHkgb2YgdGhlIExpY2Vuc2UgYXQKLy8KLy8gICAgICBodHRwOi8vd3d3LmFwYWNoZS5vcmcvbGljZW5zZXMvTElDRU5TRS0yLjAKLy8KLy8gVW5sZXNzIHJlcXVpcmVkIGJ5IGFwcGxpY2FibGUgbGF3IG9yIGFncmVlZCB0byBpbiB3cml0aW5nLCBzb2Z0d2FyZQovLyBkaXN0cmlidXRlZCB1bmRlciB0aGUgTGljZW5zZSBpcyBkaXN0cmlidXRlZCBvbiBhbiAiQVMgSVMiIEJBU0lTLAovLyBXSVRIT1VUIFdBUlJBTlRJRVMgT1IgQ09ORElUSU9OUyBPRiBBTlkgS0lORCwgZWl0aGVyIGV4cHJlc3Mgb3IgaW1wbGllZC4KLy8gU2VlIHRoZSBMaWNlbnNlIGZvciB0aGUgc3BlY2lmaWMgbGFuZ3VhZ2UgZ292ZXJuaW5nIHBlcm1pc3Npb25zIGFuZAovLyBsaW1pdGF0aW9ucyB1bmRlciB0aGUgTGljZW5zZS4KCi8qKgogKiBAZmlsZW92ZXJ2aWV3IEhlbHBlcnMgZm9yIGdvb2dsZS5jb2xhYiBQeXRob24gbW9kdWxlLgogKi8KKGZ1bmN0aW9uKHNjb3BlKSB7CmZ1bmN0aW9uIHNwYW4odGV4dCwgc3R5bGVBdHRyaWJ1dGVzID0ge30pIHsKICBjb25zdCBlbGVtZW50ID0gZG9jdW1lbnQuY3JlYXRlRWxlbWVudCgnc3BhbicpOwogIGVsZW1lbnQudGV4dENvbnRlbnQgPSB0ZXh0OwogIGZvciAoY29uc3Qga2V5IG9mIE9iamVjdC5rZXlzKHN0eWxlQXR0cmlidXRlcykpIHsKICAgIGVsZW1lbnQuc3R5bGVba2V5XSA9IHN0eWxlQXR0cmlidXRlc1trZXldOwogIH0KICByZXR1cm4gZWxlbWVudDsKfQoKLy8gTWF4IG51bWJlciBvZiBieXRlcyB3aGljaCB3aWxsIGJlIHVwbG9hZGVkIGF0IGEgdGltZS4KY29uc3QgTUFYX1BBWUxPQURfU0laRSA9IDEwMCAqIDEwMjQ7CgpmdW5jdGlvbiBfdXBsb2FkRmlsZXMoaW5wdXRJZCwgb3V0cHV0SWQpIHsKICBjb25zdCBzdGVwcyA9IHVwbG9hZEZpbGVzU3RlcChpbnB1dElkLCBvdXRwdXRJZCk7CiAgY29uc3Qgb3V0cHV0RWxlbWVudCA9IGRvY3VtZW50LmdldEVsZW1lbnRCeUlkKG91dHB1dElkKTsKICAvLyBDYWNoZSBzdGVwcyBvbiB0aGUgb3V0cHV0RWxlbWVudCB0byBtYWtlIGl0IGF2YWlsYWJsZSBmb3IgdGhlIG5leHQgY2FsbAogIC8vIHRvIHVwbG9hZEZpbGVzQ29udGludWUgZnJvbSBQeXRob24uCiAgb3V0cHV0RWxlbWVudC5zdGVwcyA9IHN0ZXBzOwoKICByZXR1cm4gX3VwbG9hZEZpbGVzQ29udGludWUob3V0cHV0SWQpOwp9CgovLyBUaGlzIGlzIHJvdWdobHkgYW4gYXN5bmMgZ2VuZXJhdG9yIChub3Qgc3VwcG9ydGVkIGluIHRoZSBicm93c2VyIHlldCksCi8vIHdoZXJlIHRoZXJlIGFyZSBtdWx0aXBsZSBhc3luY2hyb25vdXMgc3RlcHMgYW5kIHRoZSBQeXRob24gc2lkZSBpcyBnb2luZwovLyB0byBwb2xsIGZvciBjb21wbGV0aW9uIG9mIGVhY2ggc3RlcC4KLy8gVGhpcyB1c2VzIGEgUHJvbWlzZSB0byBibG9jayB0aGUgcHl0aG9uIHNpZGUgb24gY29tcGxldGlvbiBvZiBlYWNoIHN0ZXAsCi8vIHRoZW4gcGFzc2VzIHRoZSByZXN1bHQgb2YgdGhlIHByZXZpb3VzIHN0ZXAgYXMgdGhlIGlucHV0IHRvIHRoZSBuZXh0IHN0ZXAuCmZ1bmN0aW9uIF91cGxvYWRGaWxlc0NvbnRpbnVlKG91dHB1dElkKSB7CiAgY29uc3Qgb3V0cHV0RWxlbWVudCA9IGRvY3VtZW50LmdldEVsZW1lbnRCeUlkKG91dHB1dElkKTsKICBjb25zdCBzdGVwcyA9IG91dHB1dEVsZW1lbnQuc3RlcHM7CgogIGNvbnN0IG5leHQgPSBzdGVwcy5uZXh0KG91dHB1dEVsZW1lbnQubGFzdFByb21pc2VWYWx1ZSk7CiAgcmV0dXJuIFByb21pc2UucmVzb2x2ZShuZXh0LnZhbHVlLnByb21pc2UpLnRoZW4oKHZhbHVlKSA9PiB7CiAgICAvLyBDYWNoZSB0aGUgbGFzdCBwcm9taXNlIHZhbHVlIHRvIG1ha2UgaXQgYXZhaWxhYmxlIHRvIHRoZSBuZXh0CiAgICAvLyBzdGVwIG9mIHRoZSBnZW5lcmF0b3IuCiAgICBvdXRwdXRFbGVtZW50Lmxhc3RQcm9taXNlVmFsdWUgPSB2YWx1ZTsKICAgIHJldHVybiBuZXh0LnZhbHVlLnJlc3BvbnNlOwogIH0pOwp9CgovKioKICogR2VuZXJhdG9yIGZ1bmN0aW9uIHdoaWNoIGlzIGNhbGxlZCBiZXR3ZWVuIGVhY2ggYXN5bmMgc3RlcCBvZiB0aGUgdXBsb2FkCiAqIHByb2Nlc3MuCiAqIEBwYXJhbSB7c3RyaW5nfSBpbnB1dElkIEVsZW1lbnQgSUQgb2YgdGhlIGlucHV0IGZpbGUgcGlja2VyIGVsZW1lbnQuCiAqIEBwYXJhbSB7c3RyaW5nfSBvdXRwdXRJZCBFbGVtZW50IElEIG9mIHRoZSBvdXRwdXQgZGlzcGxheS4KICogQHJldHVybiB7IUl0ZXJhYmxlPCFPYmplY3Q+fSBJdGVyYWJsZSBvZiBuZXh0IHN0ZXBzLgogKi8KZnVuY3Rpb24qIHVwbG9hZEZpbGVzU3RlcChpbnB1dElkLCBvdXRwdXRJZCkgewogIGNvbnN0IGlucHV0RWxlbWVudCA9IGRvY3VtZW50LmdldEVsZW1lbnRCeUlkKGlucHV0SWQpOwogIGlucHV0RWxlbWVudC5kaXNhYmxlZCA9IGZhbHNlOwoKICBjb25zdCBvdXRwdXRFbGVtZW50ID0gZG9jdW1lbnQuZ2V0RWxlbWVudEJ5SWQob3V0cHV0SWQpOwogIG91dHB1dEVsZW1lbnQuaW5uZXJIVE1MID0gJyc7CgogIGNvbnN0IHBpY2tlZFByb21pc2UgPSBuZXcgUHJvbWlzZSgocmVzb2x2ZSkgPT4gewogICAgaW5wdXRFbGVtZW50LmFkZEV2ZW50TGlzdGVuZXIoJ2NoYW5nZScsIChlKSA9PiB7CiAgICAgIHJlc29sdmUoZS50YXJnZXQuZmlsZXMpOwogICAgfSk7CiAgfSk7CgogIGNvbnN0IGNhbmNlbCA9IGRvY3VtZW50LmNyZWF0ZUVsZW1lbnQoJ2J1dHRvbicpOwogIGlucHV0RWxlbWVudC5wYXJlbnRFbGVtZW50LmFwcGVuZENoaWxkKGNhbmNlbCk7CiAgY2FuY2VsLnRleHRDb250ZW50ID0gJ0NhbmNlbCB1cGxvYWQnOwogIGNvbnN0IGNhbmNlbFByb21pc2UgPSBuZXcgUHJvbWlzZSgocmVzb2x2ZSkgPT4gewogICAgY2FuY2VsLm9uY2xpY2sgPSAoKSA9PiB7CiAgICAgIHJlc29sdmUobnVsbCk7CiAgICB9OwogIH0pOwoKICAvLyBXYWl0IGZvciB0aGUgdXNlciB0byBwaWNrIHRoZSBmaWxlcy4KICBjb25zdCBmaWxlcyA9IHlpZWxkIHsKICAgIHByb21pc2U6IFByb21pc2UucmFjZShbcGlja2VkUHJvbWlzZSwgY2FuY2VsUHJvbWlzZV0pLAogICAgcmVzcG9uc2U6IHsKICAgICAgYWN0aW9uOiAnc3RhcnRpbmcnLAogICAgfQogIH07CgogIGNhbmNlbC5yZW1vdmUoKTsKCiAgLy8gRGlzYWJsZSB0aGUgaW5wdXQgZWxlbWVudCBzaW5jZSBmdXJ0aGVyIHBpY2tzIGFyZSBub3QgYWxsb3dlZC4KICBpbnB1dEVsZW1lbnQuZGlzYWJsZWQgPSB0cnVlOwoKICBpZiAoIWZpbGVzKSB7CiAgICByZXR1cm4gewogICAgICByZXNwb25zZTogewogICAgICAgIGFjdGlvbjogJ2NvbXBsZXRlJywKICAgICAgfQogICAgfTsKICB9CgogIGZvciAoY29uc3QgZmlsZSBvZiBmaWxlcykgewogICAgY29uc3QgbGkgPSBkb2N1bWVudC5jcmVhdGVFbGVtZW50KCdsaScpOwogICAgbGkuYXBwZW5kKHNwYW4oZmlsZS5uYW1lLCB7Zm9udFdlaWdodDogJ2JvbGQnfSkpOwogICAgbGkuYXBwZW5kKHNwYW4oCiAgICAgICAgYCgke2ZpbGUudHlwZSB8fCAnbi9hJ30pIC0gJHtmaWxlLnNpemV9IGJ5dGVzLCBgICsKICAgICAgICBgbGFzdCBtb2RpZmllZDogJHsKICAgICAgICAgICAgZmlsZS5sYXN0TW9kaWZpZWREYXRlID8gZmlsZS5sYXN0TW9kaWZpZWREYXRlLnRvTG9jYWxlRGF0ZVN0cmluZygpIDoKICAgICAgICAgICAgICAgICAgICAgICAgICAgICAgICAgICAgJ24vYSd9IC0gYCkpOwogICAgY29uc3QgcGVyY2VudCA9IHNwYW4oJzAlIGRvbmUnKTsKICAgIGxpLmFwcGVuZENoaWxkKHBlcmNlbnQpOwoKICAgIG91dHB1dEVsZW1lbnQuYXBwZW5kQ2hpbGQobGkpOwoKICAgIGNvbnN0IGZpbGVEYXRhUHJvbWlzZSA9IG5ldyBQcm9taXNlKChyZXNvbHZlKSA9PiB7CiAgICAgIGNvbnN0IHJlYWRlciA9IG5ldyBGaWxlUmVhZGVyKCk7CiAgICAgIHJlYWRlci5vbmxvYWQgPSAoZSkgPT4gewogICAgICAgIHJlc29sdmUoZS50YXJnZXQucmVzdWx0KTsKICAgICAgfTsKICAgICAgcmVhZGVyLnJlYWRBc0FycmF5QnVmZmVyKGZpbGUpOwogICAgfSk7CiAgICAvLyBXYWl0IGZvciB0aGUgZGF0YSB0byBiZSByZWFkeS4KICAgIGxldCBmaWxlRGF0YSA9IHlpZWxkIHsKICAgICAgcHJvbWlzZTogZmlsZURhdGFQcm9taXNlLAogICAgICByZXNwb25zZTogewogICAgICAgIGFjdGlvbjogJ2NvbnRpbnVlJywKICAgICAgfQogICAgfTsKCiAgICAvLyBVc2UgYSBjaHVua2VkIHNlbmRpbmcgdG8gYXZvaWQgbWVzc2FnZSBzaXplIGxpbWl0cy4gU2VlIGIvNjIxMTU2NjAuCiAgICBsZXQgcG9zaXRpb24gPSAwOwogICAgZG8gewogICAgICBjb25zdCBsZW5ndGggPSBNYXRoLm1pbihmaWxlRGF0YS5ieXRlTGVuZ3RoIC0gcG9zaXRpb24sIE1BWF9QQVlMT0FEX1NJWkUpOwogICAgICBjb25zdCBjaHVuayA9IG5ldyBVaW50OEFycmF5KGZpbGVEYXRhLCBwb3NpdGlvbiwgbGVuZ3RoKTsKICAgICAgcG9zaXRpb24gKz0gbGVuZ3RoOwoKICAgICAgY29uc3QgYmFzZTY0ID0gYnRvYShTdHJpbmcuZnJvbUNoYXJDb2RlLmFwcGx5KG51bGwsIGNodW5rKSk7CiAgICAgIHlpZWxkIHsKICAgICAgICByZXNwb25zZTogewogICAgICAgICAgYWN0aW9uOiAnYXBwZW5kJywKICAgICAgICAgIGZpbGU6IGZpbGUubmFtZSwKICAgICAgICAgIGRhdGE6IGJhc2U2NCwKICAgICAgICB9LAogICAgICB9OwoKICAgICAgbGV0IHBlcmNlbnREb25lID0gZmlsZURhdGEuYnl0ZUxlbmd0aCA9PT0gMCA/CiAgICAgICAgICAxMDAgOgogICAgICAgICAgTWF0aC5yb3VuZCgocG9zaXRpb24gLyBmaWxlRGF0YS5ieXRlTGVuZ3RoKSAqIDEwMCk7CiAgICAgIHBlcmNlbnQudGV4dENvbnRlbnQgPSBgJHtwZXJjZW50RG9uZX0lIGRvbmVgOwoKICAgIH0gd2hpbGUgKHBvc2l0aW9uIDwgZmlsZURhdGEuYnl0ZUxlbmd0aCk7CiAgfQoKICAvLyBBbGwgZG9uZS4KICB5aWVsZCB7CiAgICByZXNwb25zZTogewogICAgICBhY3Rpb246ICdjb21wbGV0ZScsCiAgICB9CiAgfTsKfQoKc2NvcGUuZ29vZ2xlID0gc2NvcGUuZ29vZ2xlIHx8IHt9OwpzY29wZS5nb29nbGUuY29sYWIgPSBzY29wZS5nb29nbGUuY29sYWIgfHwge307CnNjb3BlLmdvb2dsZS5jb2xhYi5fZmlsZXMgPSB7CiAgX3VwbG9hZEZpbGVzLAogIF91cGxvYWRGaWxlc0NvbnRpbnVlLAp9Owp9KShzZWxmKTsK",
              "ok": true,
              "headers": [
                [
                  "content-type",
                  "application/javascript"
                ]
              ],
              "status": 200,
              "status_text": ""
            }
          },
          "base_uri": "https://localhost:8080/",
          "height": 38
        },
        "outputId": "ed246f3f-c3c7-4222-d21e-26fe493eb48f"
      },
      "source": [
        "from google.colab import files\n",
        "from keras.preprocessing import image\n",
        "uploaded = files.upload()\n",
        "for fname in uploaded.keys():\n",
        "  img_path = '/content/'+fname\n",
        "  img = image.load_img(img_path,target_size=(150,150))\n",
        "  images = image.img_to_array(img)\n",
        "  images = np.expand_dims(images,axis=0)\n",
        "  prediction =  model.predict(images)\n",
        "  print(fname)\n",
        "  \n",
        "  if prediction==1 :\n",
        "    print('\\033[92m' + 'NO MASK')\n",
        "  \n",
        "  else:\n",
        "    print('\\033[91m' +'MASK')\n"
      ],
      "execution_count": null,
      "outputs": [
        {
          "output_type": "display_data",
          "data": {
            "text/plain": [
              "<IPython.core.display.HTML object>"
            ],
            "text/html": [
              "\n",
              "     <input type=\"file\" id=\"files-1276d9bb-fd71-4f96-9e4d-86252a663a93\" name=\"files[]\" multiple disabled\n",
              "        style=\"border:none\" />\n",
              "     <output id=\"result-1276d9bb-fd71-4f96-9e4d-86252a663a93\">\n",
              "      Upload widget is only available when the cell has been executed in the\n",
              "      current browser session. Please rerun this cell to enable.\n",
              "      </output>\n",
              "      <script src=\"/nbextensions/google.colab/files.js\"></script> "
            ]
          },
          "metadata": {}
        }
      ]
    },
    {
      "cell_type": "code",
      "metadata": {
        "id": "mhSpPd0g_YjY"
      },
      "source": [
        "model.save('model.h5')"
      ],
      "execution_count": null,
      "outputs": []
    },
    {
      "cell_type": "code",
      "metadata": {
        "id": "0_fgaSdKY96H"
      },
      "source": [
        ""
      ],
      "execution_count": null,
      "outputs": []
    }
  ]
}